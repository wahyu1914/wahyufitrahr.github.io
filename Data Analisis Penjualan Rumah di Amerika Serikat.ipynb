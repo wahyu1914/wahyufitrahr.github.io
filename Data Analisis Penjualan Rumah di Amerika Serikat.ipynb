{
 "cells": [
  {
   "cell_type": "markdown",
   "id": "a40147f6-7745-42f4-8889-a2698da1e915",
   "metadata": {},
   "source": [
    "# Data Analisis Penjualan Rumah di Amerika Serikat"
   ]
  },
  {
   "cell_type": "markdown",
   "id": "1e4e2867-a25e-4f4d-894f-2079487cc5b0",
   "metadata": {},
   "source": [
    "## Deskripsi Dataset"
   ]
  },
  {
   "cell_type": "markdown",
   "id": "982ab34d-f3c5-4649-a1d7-1931ae1a0e58",
   "metadata": {},
   "source": [
    "Dataset ini merupakan kumpulan data sintetis yang berisi 3.000 listing properti residensial. Data ini dimodelkan menyerupai data penjualan rumah sungguhan di A.S. (dalam format ala Zillow) dan dirancang khusus untuk analisis real estat, machine learning, visualisasi data, serta praktik web scraping.\n",
    "\n",
    "Setiap baris merepresentasikan properti unik dan mencakup 16 fitur utama yang umum digunakan oleh agen real estat, investor, dan analis. Data ini mencakup berbagai negara bagian dan kota di A.S., dengan nilai-nilai realistis untuk harga, luas area, jumlah kamar tidur/mandi, tipe properti, dan banyak lagi."
   ]
  },
  {
   "cell_type": "markdown",
   "id": "42767db3-1fbf-42ec-9b13-14e74bcf4f56",
   "metadata": {},
   "source": [
    "## Sumber Data"
   ]
  },
  {
   "cell_type": "markdown",
   "id": "3dc9b488-a442-4af1-b428-24c1d2cb9679",
   "metadata": {},
   "source": [
    "Dataset ini diperoleh dari platform Kaggle. Dataset dapat ditemukan pada link berikut:\n",
    "\n",
    "https://www.kaggle.com/datasets/abdulwadood11220/usa-house-sales-data"
   ]
  },
  {
   "cell_type": "markdown",
   "id": "1f524129-a0e3-4b60-a40b-afb86f2dec14",
   "metadata": {},
   "source": [
    "## Kolom Data"
   ]
  },
  {
   "cell_type": "markdown",
   "id": "9328db13-0553-4ed4-b549-77de73a0d98c",
   "metadata": {},
   "source": [
    "Dataset ini memiliki kolom-kolom berikut, yang memberikan detail tentang setiap properti:\n",
    "\n",
    "• Price: Harga penjualan properti.\n",
    "• Address: Alamat lengkap properti.\n",
    "• City: Kota lokasi properti.\n",
    "• Zipcode: Kode pos properti.\n",
    "• State: Negara bagian lokasi properti (misal: CA, NY, TX, dll.).\n",
    "• Bedrooms: Jumlah kamar tidur di properti (format \"X bds\", perlu diekstrak angka).\n",
    "• Bathrooms: Jumlah kamar mandi di properti (format \"X ba\", perlu diekstrak angka).\n",
    "• Area (Sqft): Luas area dalam kaki persegi (sqft) (format \"X sqft\", perlu diekstrak angka).\n",
    "• Lot Size: Ukuran luas tanah dalam kaki persegi (sqft) (format \"X sqft\", perlu diekstrak angka).\n",
    "• Year Built: Tahun pembangunan properti.\n",
    "• Days on Market: Jumlah hari properti berada di pasar.\n",
    "• Property Type: Jenis properti (misal: Townhouse, Apartment, Single Family, Multi-Family, Condo).\n",
    "• MLS ID: ID Multiple Listing Service properti.\n",
    "• Listing Agent: Nama agen properti yang listing properti tersebut.\n",
    "• Status: Status penjualan properti (misal: For Sale, Sold, Pending).\n",
    "• Listing URL: Tautan URL ke listing properti"
   ]
  },
  {
   "cell_type": "markdown",
   "id": "fcd990d0-c4e9-4bee-8c55-7c24bc63542b",
   "metadata": {},
   "source": [
    "## Tujuan dan Penggunaan Potensial"
   ]
  },
  {
   "cell_type": "markdown",
   "id": "f143bc23-071d-44a7-bd6e-be9b2a56a15a",
   "metadata": {},
   "source": [
    "Dataset ini dapat dimanfaatkan untuk berbagai tujuan analisis, antara lain:\n",
    "\n",
    "• Eksplorasi Data Analisis (EDA): Untuk memahami distribusi dan hubungan antar variabel serta mendapatkan insight awal pasar real estat AS.\n",
    "\n",
    "• Pelatihan Model Regresi/Klasifikasi: Membangun model machine learning untuk memprediksi harga rumah atau mengklasifikasikan tipe properti.\n",
    "\n",
    "• Rekayasa Fitur dan Pra-pemrosesan: Latihan membersihkan, mengubah, dan membuat fitur baru dari data mentah.\n",
    "\n",
    "• Dashboard Real Estat dan Mockup Aplikasi Web: Membuat visualisasi interaktif atau prototipe aplikasi.\n",
    "\n",
    "• Latihan dengan Pustaka Data: Berlatih menggunakan alat seperti BeautifulSoup, Pandas, atau Power BI untuk memanipulasi dan menganalisis data."
   ]
  },
  {
   "cell_type": "markdown",
   "id": "faf8084e-838f-4959-9d98-38d3eea16f28",
   "metadata": {},
   "source": [
    "# Load Dataset"
   ]
  },
  {
   "cell_type": "code",
   "execution_count": 96,
   "id": "f934b991-e121-42af-bd45-c6b91a10a68f",
   "metadata": {},
   "outputs": [],
   "source": [
    "import pandas as pd\n",
    "import numpy as np\n",
    "import matplotlib.pyplot as plt\n",
    "import seaborn as sns\n",
    "%matplotlib inline\n",
    "import warnings\n",
    "warnings.filterwarnings(\"ignore\")"
   ]
  },
  {
   "cell_type": "code",
   "execution_count": null,
   "id": "8700b49c-038b-4981-915b-6022f72b3a12",
   "metadata": {},
   "outputs": [],
   "source": []
  },
  {
   "cell_type": "markdown",
   "id": "d884b5b5-c9ee-4d07-88b7-cd4325a01455",
   "metadata": {
    "scrolled": true
   },
   "source": [
    "df = pd.read_csv(r\"C:\\Users\\wahyu\\Downloads\\archive (2)\\us_house_Sales_data.csv\", )\n",
    "df.sample(3)"
   ]
  },
  {
   "cell_type": "markdown",
   "id": "315e47d0-bd70-404a-9bbd-57512eac0275",
   "metadata": {},
   "source": [
    "# Exploratory Data Analysis"
   ]
  },
  {
   "cell_type": "markdown",
   "id": "8866f94b-7b8c-4f2a-b139-07e436f8b15c",
   "metadata": {},
   "source": [
    "## Overview Data"
   ]
  },
  {
   "cell_type": "markdown",
   "id": "a6880eb0-8eab-441b-b287-4eb224999859",
   "metadata": {},
   "source": [
    "Melakukan investigasi awal terhadap data untuk memahami karakteristik dan informasi yang terkandung didalamnya termasuk missing value dan duplikat."
   ]
  },
  {
   "cell_type": "code",
   "execution_count": 73,
   "id": "fca1357f-189a-4c6a-afe5-954e7024d91c",
   "metadata": {},
   "outputs": [
    {
     "data": {
      "text/plain": [
       "(3000, 16)"
      ]
     },
     "execution_count": 73,
     "metadata": {},
     "output_type": "execute_result"
    }
   ],
   "source": [
    "df.shape"
   ]
  },
  {
   "cell_type": "code",
   "execution_count": 74,
   "id": "43168009-8c49-45e3-9769-9b48b6fded3b",
   "metadata": {},
   "outputs": [
    {
     "data": {
      "text/html": [
       "<div>\n",
       "<style scoped>\n",
       "    .dataframe tbody tr th:only-of-type {\n",
       "        vertical-align: middle;\n",
       "    }\n",
       "\n",
       "    .dataframe tbody tr th {\n",
       "        vertical-align: top;\n",
       "    }\n",
       "\n",
       "    .dataframe thead th {\n",
       "        text-align: right;\n",
       "    }\n",
       "</style>\n",
       "<table border=\"1\" class=\"dataframe\">\n",
       "  <thead>\n",
       "    <tr style=\"text-align: right;\">\n",
       "      <th></th>\n",
       "      <th>feature</th>\n",
       "      <th>data_type</th>\n",
       "      <th>null_values</th>\n",
       "      <th>null_percentage</th>\n",
       "      <th>unique_values</th>\n",
       "      <th>unique_sample</th>\n",
       "    </tr>\n",
       "  </thead>\n",
       "  <tbody>\n",
       "    <tr>\n",
       "      <th>0</th>\n",
       "      <td>Price</td>\n",
       "      <td>object</td>\n",
       "      <td>0</td>\n",
       "      <td>0.0</td>\n",
       "      <td>2996</td>\n",
       "      <td>[$554,217, $164,454, $1,249,331, $189,267, $46...</td>\n",
       "    </tr>\n",
       "    <tr>\n",
       "      <th>1</th>\n",
       "      <td>Address</td>\n",
       "      <td>object</td>\n",
       "      <td>0</td>\n",
       "      <td>0.0</td>\n",
       "      <td>3000</td>\n",
       "      <td>[5926 Oak Ave, San Diego, CA 65383, 9583 Oak A...</td>\n",
       "    </tr>\n",
       "    <tr>\n",
       "      <th>...</th>\n",
       "      <td>...</td>\n",
       "      <td>...</td>\n",
       "      <td>...</td>\n",
       "      <td>...</td>\n",
       "      <td>...</td>\n",
       "      <td>...</td>\n",
       "    </tr>\n",
       "    <tr>\n",
       "      <th>14</th>\n",
       "      <td>Status</td>\n",
       "      <td>object</td>\n",
       "      <td>0</td>\n",
       "      <td>0.0</td>\n",
       "      <td>3</td>\n",
       "      <td>[For Sale, Sold, Pending]</td>\n",
       "    </tr>\n",
       "    <tr>\n",
       "      <th>15</th>\n",
       "      <td>Listing URL</td>\n",
       "      <td>object</td>\n",
       "      <td>0</td>\n",
       "      <td>0.0</td>\n",
       "      <td>3000</td>\n",
       "      <td>[https://www.zillow.com/homedetails/80374762_z...</td>\n",
       "    </tr>\n",
       "  </tbody>\n",
       "</table>\n",
       "<p>16 rows × 6 columns</p>\n",
       "</div>"
      ],
      "text/plain": [
       "        feature  data_type   null_values   null_percentage   unique_values  \\\n",
       "0         Price     object             0               0.0            2996   \n",
       "1       Address     object             0               0.0            3000   \n",
       "..          ...        ...           ...               ...             ...   \n",
       "14       Status     object             0               0.0               3   \n",
       "15  Listing URL     object             0               0.0            3000   \n",
       "\n",
       "                                        unique_sample  \n",
       "0   [$554,217, $164,454, $1,249,331, $189,267, $46...  \n",
       "1   [5926 Oak Ave, San Diego, CA 65383, 9583 Oak A...  \n",
       "..                                                ...  \n",
       "14                          [For Sale, Sold, Pending]  \n",
       "15  [https://www.zillow.com/homedetails/80374762_z...  \n",
       "\n",
       "[16 rows x 6 columns]"
      ]
     },
     "execution_count": 74,
     "metadata": {},
     "output_type": "execute_result"
    }
   ],
   "source": [
    "# overview\n",
    "list_item = []\n",
    "for col in df.columns:\n",
    "    list_item.append([col, df[col].dtype, df[col].isna().sum(), round(100*df[col].isna().sum()/len(df[col]), 2), df[col].nunique(), df[col].unique()[:10]])\n",
    "desc_df = pd.DataFrame(data=list_item, columns='feature, data_type, null_values, null_percentage, unique_values, unique_sample'.split(\",\"))\n",
    "desc_df"
   ]
  },
  {
   "cell_type": "code",
   "execution_count": 75,
   "id": "eb47ca0b-5d0e-4048-add8-766eeaa15828",
   "metadata": {},
   "outputs": [
    {
     "data": {
      "text/plain": [
       "np.int64(0)"
      ]
     },
     "execution_count": 75,
     "metadata": {},
     "output_type": "execute_result"
    }
   ],
   "source": [
    "df.duplicated().sum()"
   ]
  },
  {
   "cell_type": "code",
   "execution_count": 76,
   "id": "65b3fa4c-b478-45cb-a0e8-d9a194786659",
   "metadata": {},
   "outputs": [
    {
     "data": {
      "text/plain": [
       "['Zipcode', 'Year Built', 'Days on Market']"
      ]
     },
     "execution_count": 76,
     "metadata": {},
     "output_type": "execute_result"
    }
   ],
   "source": [
    "# numerikal fitur\n",
    "nums = df.loc[:, (df.dtypes == 'int64') | (df.dtypes == float)].columns.tolist()\n",
    "nums"
   ]
  },
  {
   "cell_type": "code",
   "execution_count": 77,
   "id": "11c2d32a-54f5-4efc-a715-06ea9a31eee7",
   "metadata": {},
   "outputs": [
    {
     "data": {
      "text/plain": [
       "['Price',\n",
       " 'Address',\n",
       " 'City',\n",
       " 'State',\n",
       " 'Bedrooms',\n",
       " 'Bathrooms',\n",
       " 'Area (Sqft)',\n",
       " 'Lot Size',\n",
       " 'Property Type',\n",
       " 'MLS ID',\n",
       " 'Listing Agent',\n",
       " 'Status',\n",
       " 'Listing URL']"
      ]
     },
     "execution_count": 77,
     "metadata": {},
     "output_type": "execute_result"
    }
   ],
   "source": [
    "# kategorikal fitur\n",
    "cats = df.loc[:, (df.dtypes == 'object')].columns.tolist()\n",
    "cats"
   ]
  },
  {
   "cell_type": "markdown",
   "id": "3926b4f0-21d0-4b13-9c3a-2f548bb8dd9e",
   "metadata": {},
   "source": [
    "Key Takeaways:\n",
    "\n",
    "• Dataset terdiri dari 3000 baris dan 16 kolom dengan 3 fitur numerikal dan 13 fitur kategorikal\n",
    "• Tidak ada duplikat data"
   ]
  },
  {
   "cell_type": "markdown",
   "id": "aca8831d-d894-4b3b-9965-b245835c57bd",
   "metadata": {},
   "source": [
    "## Statistical Summary"
   ]
  },
  {
   "cell_type": "code",
   "execution_count": 78,
   "id": "4f030242-31e0-479a-ada5-7cfe62f5c502",
   "metadata": {},
   "outputs": [
    {
     "data": {
      "text/html": [
       "<div>\n",
       "<style scoped>\n",
       "    .dataframe tbody tr th:only-of-type {\n",
       "        vertical-align: middle;\n",
       "    }\n",
       "\n",
       "    .dataframe tbody tr th {\n",
       "        vertical-align: top;\n",
       "    }\n",
       "\n",
       "    .dataframe thead th {\n",
       "        text-align: right;\n",
       "    }\n",
       "</style>\n",
       "<table border=\"1\" class=\"dataframe\">\n",
       "  <thead>\n",
       "    <tr style=\"text-align: right;\">\n",
       "      <th></th>\n",
       "      <th>count</th>\n",
       "      <th>mean</th>\n",
       "      <th>std</th>\n",
       "      <th>min</th>\n",
       "      <th>25%</th>\n",
       "      <th>50%</th>\n",
       "      <th>75%</th>\n",
       "      <th>max</th>\n",
       "    </tr>\n",
       "  </thead>\n",
       "  <tbody>\n",
       "    <tr>\n",
       "      <th>Zipcode</th>\n",
       "      <td>3000.0</td>\n",
       "      <td>55264.0</td>\n",
       "      <td>25924.0</td>\n",
       "      <td>10006.0</td>\n",
       "      <td>33364.0</td>\n",
       "      <td>55468.0</td>\n",
       "      <td>77692.0</td>\n",
       "      <td>99955.0</td>\n",
       "    </tr>\n",
       "    <tr>\n",
       "      <th>Year Built</th>\n",
       "      <td>3000.0</td>\n",
       "      <td>1987.0</td>\n",
       "      <td>21.0</td>\n",
       "      <td>1950.0</td>\n",
       "      <td>1968.0</td>\n",
       "      <td>1987.0</td>\n",
       "      <td>2006.0</td>\n",
       "      <td>2023.0</td>\n",
       "    </tr>\n",
       "    <tr>\n",
       "      <th>Days on Market</th>\n",
       "      <td>3000.0</td>\n",
       "      <td>61.0</td>\n",
       "      <td>35.0</td>\n",
       "      <td>1.0</td>\n",
       "      <td>31.0</td>\n",
       "      <td>62.0</td>\n",
       "      <td>91.0</td>\n",
       "      <td>120.0</td>\n",
       "    </tr>\n",
       "  </tbody>\n",
       "</table>\n",
       "</div>"
      ],
      "text/plain": [
       "                 count     mean      std      min      25%      50%      75%  \\\n",
       "Zipcode         3000.0  55264.0  25924.0  10006.0  33364.0  55468.0  77692.0   \n",
       "Year Built      3000.0   1987.0     21.0   1950.0   1968.0   1987.0   2006.0   \n",
       "Days on Market  3000.0     61.0     35.0      1.0     31.0     62.0     91.0   \n",
       "\n",
       "                    max  \n",
       "Zipcode         99955.0  \n",
       "Year Built       2023.0  \n",
       "Days on Market    120.0  "
      ]
     },
     "execution_count": 78,
     "metadata": {},
     "output_type": "execute_result"
    }
   ],
   "source": [
    "df[nums].describe().round(0).T"
   ]
  },
  {
   "cell_type": "code",
   "execution_count": 79,
   "id": "ba7de63d-cc2d-4883-9f9d-f1b8a31ce0b1",
   "metadata": {},
   "outputs": [
    {
     "data": {
      "text/html": [
       "<div>\n",
       "<style scoped>\n",
       "    .dataframe tbody tr th:only-of-type {\n",
       "        vertical-align: middle;\n",
       "    }\n",
       "\n",
       "    .dataframe tbody tr th {\n",
       "        vertical-align: top;\n",
       "    }\n",
       "\n",
       "    .dataframe thead th {\n",
       "        text-align: right;\n",
       "    }\n",
       "</style>\n",
       "<table border=\"1\" class=\"dataframe\">\n",
       "  <thead>\n",
       "    <tr style=\"text-align: right;\">\n",
       "      <th></th>\n",
       "      <th>count</th>\n",
       "      <th>unique</th>\n",
       "      <th>top</th>\n",
       "      <th>freq</th>\n",
       "    </tr>\n",
       "  </thead>\n",
       "  <tbody>\n",
       "    <tr>\n",
       "      <th>Price</th>\n",
       "      <td>3000</td>\n",
       "      <td>2996</td>\n",
       "      <td>$102,028</td>\n",
       "      <td>2</td>\n",
       "    </tr>\n",
       "    <tr>\n",
       "      <th>Address</th>\n",
       "      <td>3000</td>\n",
       "      <td>3000</td>\n",
       "      <td>4392 Maple Dr, Los Angeles, NY 89198</td>\n",
       "      <td>1</td>\n",
       "    </tr>\n",
       "    <tr>\n",
       "      <th>...</th>\n",
       "      <td>...</td>\n",
       "      <td>...</td>\n",
       "      <td>...</td>\n",
       "      <td>...</td>\n",
       "    </tr>\n",
       "    <tr>\n",
       "      <th>Status</th>\n",
       "      <td>3000</td>\n",
       "      <td>3</td>\n",
       "      <td>Sold</td>\n",
       "      <td>1045</td>\n",
       "    </tr>\n",
       "    <tr>\n",
       "      <th>Listing URL</th>\n",
       "      <td>3000</td>\n",
       "      <td>3000</td>\n",
       "      <td>https://www.zillow.com/homedetails/64854326_zpid/</td>\n",
       "      <td>1</td>\n",
       "    </tr>\n",
       "  </tbody>\n",
       "</table>\n",
       "<p>13 rows × 4 columns</p>\n",
       "</div>"
      ],
      "text/plain": [
       "            count unique                                                top  \\\n",
       "Price        3000   2996                                           $102,028   \n",
       "Address      3000   3000               4392 Maple Dr, Los Angeles, NY 89198   \n",
       "...           ...    ...                                                ...   \n",
       "Status       3000      3                                               Sold   \n",
       "Listing URL  3000   3000  https://www.zillow.com/homedetails/64854326_zpid/   \n",
       "\n",
       "             freq  \n",
       "Price           2  \n",
       "Address         1  \n",
       "...           ...  \n",
       "Status       1045  \n",
       "Listing URL     1  \n",
       "\n",
       "[13 rows x 4 columns]"
      ]
     },
     "execution_count": 79,
     "metadata": {},
     "output_type": "execute_result"
    }
   ],
   "source": [
    "df[cats].describe().T"
   ]
  },
  {
   "cell_type": "markdown",
   "id": "7b0389c8-057d-489c-88e9-380c09035d5d",
   "metadata": {},
   "source": [
    "## Unvariate Analysis"
   ]
  },
  {
   "cell_type": "code",
   "execution_count": 85,
   "id": "d1b9b7b3-1ba1-48f8-b04b-138fb3add404",
   "metadata": {},
   "outputs": [
    {
     "data": {
      "image/png": "[encoded data removed]",
      "text/plain": [
       "<Figure size 1500x300 with 1 Axes>"
      ]
     },
     "metadata": {},
     "output_type": "display_data"
    },
    {
     "data": {
      "image/png": "[encoded data removed]",
      "text/plain": [
       "<Figure size 500x500 with 2 Axes>"
      ]
     },
     "metadata": {},
     "output_type": "display_data"
    },
    {
     "data": {
      "image/png": "[encoded data removed]",
      "text/plain": [
       "<Figure size 500x500 with 2 Axes>"
      ]
     },
     "metadata": {},
     "output_type": "display_data"
    },
    {
     "data": {
      "image/png": "[encoded data removed]",
      "text/plain": [
       "<Figure size 500x500 with 1 Axes>"
      ]
     },
     "metadata": {},
     "output_type": "display_data"
    }
   ],
   "source": [
    "# distribusi menggunakan displot\n",
    "plt.figure(figsize=(15, 3))\n",
    "for i in range(0, len(nums)):\n",
    "    plt.subplot(1, 5, i+1)\n",
    "    sns.displot(df[nums[i]])\n",
    "    plt.tight_layout()"
   ]
  },
  {
   "cell_type": "code",
   "execution_count": 88,
   "id": "fd1a7607-03ee-4f91-b683-43cdda820c19",
   "metadata": {},
   "outputs": [
    {
     "data": {
      "image/png": "[encoded data removed]",
      "text/plain": [
       "<Figure size 1500x300 with 3 Axes>"
      ]
     },
     "metadata": {},
     "output_type": "display_data"
    }
   ],
   "source": [
    "# distribusi menggunakan boxplot\n",
    "plt.figure(figsize=(15, 3))\n",
    "for i in range(0, len(nums)):\n",
    "    plt.subplot(1, 5, i+1)\n",
    "    sns.boxplot(df, y=df[nums[i]], orient='v')\n",
    "    plt.tight_layout()"
   ]
  },
  {
   "cell_type": "code",
   "execution_count": 89,
   "id": "c0bb03f9-1ec0-4a68-8e92-0f0996bc4465",
   "metadata": {},
   "outputs": [
    {
     "name": "stdout",
     "output_type": "stream",
     "text": [
      "Value count kolom Price:\n",
      "--------------------------------------------------\n",
      "Price\n",
      "$102,028      2\n",
      "$1,280,680    2\n",
      "             ..\n",
      "$704,012      1\n",
      "$189,267      1\n",
      "Name: count, Length: 2996, dtype: int64\n",
      "\n",
      "Value count kolom Address:\n",
      "--------------------------------------------------\n",
      "Address\n",
      "4392 Maple Dr, Los Angeles, NY 89198    1\n",
      "5926 Oak Ave, San Diego, CA 65383       1\n",
      "                                       ..\n",
      "8382 Main St, Sacramento, CA 74703      1\n",
      "1193 Oak Ave, San Diego, NY 19858       1\n",
      "Name: count, Length: 3000, dtype: int64\n",
      "\n",
      "Value count kolom City:\n",
      "--------------------------------------------------\n",
      "City\n",
      "Los Angeles      617\n",
      "Sacramento       609\n",
      "San Francisco    605\n",
      "San Diego        586\n",
      "Fresno           583\n",
      "Name: count, dtype: int64\n",
      "\n",
      "Value count kolom State:\n",
      "--------------------------------------------------\n",
      "State\n",
      "CA    659\n",
      "IL    599\n",
      "NY    599\n",
      "FL    578\n",
      "TX    565\n",
      "Name: count, dtype: int64\n",
      "\n",
      "Value count kolom Bedrooms:\n",
      "--------------------------------------------------\n",
      "Bedrooms\n",
      "2 bds    533\n",
      "3 bds    518\n",
      "        ... \n",
      "4 bds    482\n",
      "5 bds    471\n",
      "Name: count, Length: 6, dtype: int64\n",
      "\n",
      "Value count kolom Bathrooms:\n",
      "--------------------------------------------------\n",
      "Bathrooms\n",
      "4 ba    760\n",
      "1 ba    752\n",
      "2 ba    751\n",
      "3 ba    737\n",
      "Name: count, dtype: int64\n",
      "\n",
      "Value count kolom Area (Sqft):\n",
      "--------------------------------------------------\n",
      "Area (Sqft)\n",
      "1051 sqft    6\n",
      "1977 sqft    5\n",
      "            ..\n",
      "1635 sqft    1\n",
      "3426 sqft    1\n",
      "Name: count, Length: 2013, dtype: int64\n",
      "\n",
      "Value count kolom Lot Size:\n",
      "--------------------------------------------------\n",
      "Lot Size\n",
      "6335 sqft    5\n",
      "1361 sqft    4\n",
      "            ..\n",
      "9398 sqft    1\n",
      "7526 sqft    1\n",
      "Name: count, Length: 2542, dtype: int64\n",
      "\n",
      "Value count kolom Property Type:\n",
      "--------------------------------------------------\n",
      "Property Type\n",
      "Apartment        622\n",
      "Condo            617\n",
      "Townhouse        614\n",
      "Single Family    583\n",
      "Multi-Family     564\n",
      "Name: count, dtype: int64\n",
      "\n",
      "Value count kolom MLS ID:\n",
      "--------------------------------------------------\n",
      "MLS ID\n",
      "Z463266    2\n",
      "Z443344    2\n",
      "          ..\n",
      "Z145933    1\n",
      "Z899716    1\n",
      "Name: count, Length: 2997, dtype: int64\n",
      "\n",
      "Value count kolom Listing Agent:\n",
      "--------------------------------------------------\n",
      "Listing Agent\n",
      "Alex Johnson - Compass          617\n",
      "Jane Smith - Keller Williams    613\n",
      "Emily Davis - Century 21        594\n",
      "Mike Lee - Coldwell Banker      589\n",
      "John Doe - RE/MAX               587\n",
      "Name: count, dtype: int64\n",
      "\n",
      "Value count kolom Status:\n",
      "--------------------------------------------------\n",
      "Status\n",
      "Sold        1045\n",
      "Pending      998\n",
      "For Sale     957\n",
      "Name: count, dtype: int64\n",
      "\n",
      "Value count kolom Listing URL:\n",
      "--------------------------------------------------\n",
      "Listing URL\n",
      "https://www.zillow.com/homedetails/64854326_zpid/    1\n",
      "https://www.zillow.com/homedetails/80374762_zpid/    1\n",
      "                                                    ..\n",
      "https://www.zillow.com/homedetails/11583738_zpid/    1\n",
      "https://www.zillow.com/homedetails/53525900_zpid/    1\n",
      "Name: count, Length: 3000, dtype: int64\n",
      "\n"
     ]
    }
   ],
   "source": [
    "for col in cats:\n",
    "    print(f'''Value count kolom {col}:''')\n",
    "    print('-' * 50)\n",
    "    print(df[col].value_counts())\n",
    "    print()"
   ]
  },
  {
   "cell_type": "markdown",
   "id": "aef528e5-6048-46e2-82a0-572ed135fcae",
   "metadata": {},
   "source": [
    "# Data Preprocessing"
   ]
  },
  {
   "cell_type": "markdown",
   "id": "04731ffc-bb76-4038-87c4-633f3d852768",
   "metadata": {},
   "source": [
    "## Data Cleaning"
   ]
  },
  {
   "cell_type": "code",
   "execution_count": 99,
   "id": "434b7bb0-296b-46c0-82d7-1b1b7f194527",
   "metadata": {},
   "outputs": [],
   "source": [
    "df_cleaned = df"
   ]
  },
  {
   "cell_type": "markdown",
   "id": "aee9d24f-126a-4484-979a-47097c9ce67d",
   "metadata": {},
   "source": [
    "Handling Missing Value\n",
    "\n",
    "Pada fitur numerikal missing value diisi dengan median, karena lebih robust\n",
    "Pada fitur kategorikal missing value diisi dengan modus"
   ]
  },
  {
   "cell_type": "code",
   "execution_count": 100,
   "id": "6b9b1b50-101c-4adc-8c31-1c4210b89910",
   "metadata": {},
   "outputs": [
    {
     "data": {
      "text/plain": [
       "Price          0\n",
       "Address        0\n",
       "              ..\n",
       "Status         0\n",
       "Listing URL    0\n",
       "Length: 16, dtype: int64"
      ]
     },
     "execution_count": 100,
     "metadata": {},
     "output_type": "execute_result"
    }
   ],
   "source": [
    "df_cleaned.isna().sum()"
   ]
  },
  {
   "cell_type": "code",
   "execution_count": 101,
   "id": "572408ce-7a30-43b1-b82e-484a0822815c",
   "metadata": {},
   "outputs": [],
   "source": [
    "df_prep = df_cleaned"
   ]
  },
  {
   "cell_type": "code",
   "execution_count": 102,
   "id": "6b7c29e8-88b3-4a77-9cdb-4c8265affd71",
   "metadata": {},
   "outputs": [
    {
     "name": "stdout",
     "output_type": "stream",
     "text": [
      "<class 'pandas.core.frame.DataFrame'>\n",
      "RangeIndex: 3000 entries, 0 to 2999\n",
      "Data columns (total 16 columns):\n",
      " #   Column          Non-Null Count  Dtype \n",
      "---  ------          --------------  ----- \n",
      " 0   Price           3000 non-null   object\n",
      " 1   Address         3000 non-null   object\n",
      " 2   City            3000 non-null   object\n",
      " 3   Zipcode         3000 non-null   int64 \n",
      " 4   State           3000 non-null   object\n",
      " 5   Bedrooms        3000 non-null   object\n",
      " 6   Bathrooms       3000 non-null   object\n",
      " 7   Area (Sqft)     3000 non-null   object\n",
      " 8   Lot Size        3000 non-null   object\n",
      " 9   Year Built      3000 non-null   int64 \n",
      " 10  Days on Market  3000 non-null   int64 \n",
      " 11  Property Type   3000 non-null   object\n",
      " 12  MLS ID          3000 non-null   object\n",
      " 13  Listing Agent   3000 non-null   object\n",
      " 14  Status          3000 non-null   object\n",
      " 15  Listing URL     3000 non-null   object\n",
      "dtypes: int64(3), object(13)\n",
      "memory usage: 375.1+ KB\n"
     ]
    }
   ],
   "source": [
    "df_prep.info()"
   ]
  },
  {
   "cell_type": "code",
   "execution_count": null,
   "id": "32f2b84d-5d62-4308-a41a-7b6207a645ee",
   "metadata": {},
   "outputs": [],
   "source": []
  },
  {
   "cell_type": "code",
   "execution_count": null,
   "id": "9fa4c5ca-b302-423d-b353-091dc60dcd57",
   "metadata": {},
   "outputs": [],
   "source": []
  }
 ],
 "metadata": {
  "kernelspec": {
   "display_name": "Python [conda env:base] *",
   "language": "python",
   "name": "conda-base-py"
  },
  "language_info": {
   "codemirror_mode": {
    "name": "ipython",
    "version": 3
   },
   "file_extension": ".py",
   "mimetype": "text/x-python",
   "name": "python",
   "nbconvert_exporter": "python",
   "pygments_lexer": "ipython3",
   "version": "3.13.5"
  }
 },
 "nbformat": 4,
 "nbformat_minor": 5
}
